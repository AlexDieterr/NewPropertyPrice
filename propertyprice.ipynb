{
    "cells": [
        {
            "cell_type": "code",
            "execution_count": 58,
            "metadata": {},
            "outputs": [
                {
                    "data": {
                        "text/html": [
                            "<div>\n",
                            "<style scoped>\n",
                            "    .dataframe tbody tr th:only-of-type {\n",
                            "        vertical-align: middle;\n",
                            "    }\n",
                            "\n",
                            "    .dataframe tbody tr th {\n",
                            "        vertical-align: top;\n",
                            "    }\n",
                            "\n",
                            "    .dataframe thead th {\n",
                            "        text-align: right;\n",
                            "    }\n",
                            "</style>\n",
                            "<table border=\"1\" class=\"dataframe\">\n",
                            "  <thead>\n",
                            "    <tr style=\"text-align: right;\">\n",
                            "      <th></th>\n",
                            "      <th>longitude</th>\n",
                            "      <th>latitude</th>\n",
                            "      <th>housing_median_age</th>\n",
                            "      <th>total_rooms</th>\n",
                            "      <th>total_bedrooms</th>\n",
                            "      <th>population</th>\n",
                            "      <th>households</th>\n",
                            "      <th>median_income</th>\n",
                            "      <th>median_house_value</th>\n",
                            "      <th>ocean_proximity</th>\n",
                            "    </tr>\n",
                            "  </thead>\n",
                            "  <tbody>\n",
                            "    <tr>\n",
                            "      <th>0</th>\n",
                            "      <td>-122.23</td>\n",
                            "      <td>37.88</td>\n",
                            "      <td>41.0</td>\n",
                            "      <td>880.0</td>\n",
                            "      <td>129.0</td>\n",
                            "      <td>322.0</td>\n",
                            "      <td>126.0</td>\n",
                            "      <td>8.3252</td>\n",
                            "      <td>452600.0</td>\n",
                            "      <td>NEAR BAY</td>\n",
                            "    </tr>\n",
                            "    <tr>\n",
                            "      <th>1</th>\n",
                            "      <td>-122.22</td>\n",
                            "      <td>37.86</td>\n",
                            "      <td>21.0</td>\n",
                            "      <td>7099.0</td>\n",
                            "      <td>1106.0</td>\n",
                            "      <td>2401.0</td>\n",
                            "      <td>1138.0</td>\n",
                            "      <td>8.3014</td>\n",
                            "      <td>358500.0</td>\n",
                            "      <td>NEAR BAY</td>\n",
                            "    </tr>\n",
                            "    <tr>\n",
                            "      <th>2</th>\n",
                            "      <td>-122.24</td>\n",
                            "      <td>37.85</td>\n",
                            "      <td>52.0</td>\n",
                            "      <td>1467.0</td>\n",
                            "      <td>190.0</td>\n",
                            "      <td>496.0</td>\n",
                            "      <td>177.0</td>\n",
                            "      <td>7.2574</td>\n",
                            "      <td>352100.0</td>\n",
                            "      <td>NEAR BAY</td>\n",
                            "    </tr>\n",
                            "    <tr>\n",
                            "      <th>3</th>\n",
                            "      <td>-122.25</td>\n",
                            "      <td>37.85</td>\n",
                            "      <td>52.0</td>\n",
                            "      <td>1274.0</td>\n",
                            "      <td>235.0</td>\n",
                            "      <td>558.0</td>\n",
                            "      <td>219.0</td>\n",
                            "      <td>5.6431</td>\n",
                            "      <td>341300.0</td>\n",
                            "      <td>NEAR BAY</td>\n",
                            "    </tr>\n",
                            "    <tr>\n",
                            "      <th>4</th>\n",
                            "      <td>-122.25</td>\n",
                            "      <td>37.85</td>\n",
                            "      <td>52.0</td>\n",
                            "      <td>1627.0</td>\n",
                            "      <td>280.0</td>\n",
                            "      <td>565.0</td>\n",
                            "      <td>259.0</td>\n",
                            "      <td>3.8462</td>\n",
                            "      <td>342200.0</td>\n",
                            "      <td>NEAR BAY</td>\n",
                            "    </tr>\n",
                            "  </tbody>\n",
                            "</table>\n",
                            "</div>"
                        ],
                        "text/plain": [
                            "   longitude  latitude  housing_median_age  total_rooms  total_bedrooms  \\\n",
                            "0    -122.23     37.88                41.0        880.0           129.0   \n",
                            "1    -122.22     37.86                21.0       7099.0          1106.0   \n",
                            "2    -122.24     37.85                52.0       1467.0           190.0   \n",
                            "3    -122.25     37.85                52.0       1274.0           235.0   \n",
                            "4    -122.25     37.85                52.0       1627.0           280.0   \n",
                            "\n",
                            "   population  households  median_income  median_house_value ocean_proximity  \n",
                            "0       322.0       126.0         8.3252            452600.0        NEAR BAY  \n",
                            "1      2401.0      1138.0         8.3014            358500.0        NEAR BAY  \n",
                            "2       496.0       177.0         7.2574            352100.0        NEAR BAY  \n",
                            "3       558.0       219.0         5.6431            341300.0        NEAR BAY  \n",
                            "4       565.0       259.0         3.8462            342200.0        NEAR BAY  "
                        ]
                    },
                    "execution_count": 58,
                    "metadata": {},
                    "output_type": "execute_result"
                }
            ],
            "source": [
                "import pandas as pd\n",
                "data = pd.read_csv('./housing.csv')\n",
                "data.head(5)"
            ]
        },
        {
            "cell_type": "code",
            "execution_count": 59,
            "metadata": {},
            "outputs": [
                {
                    "data": {
                        "text/plain": [
                            "longitude               0\n",
                            "latitude                0\n",
                            "housing_median_age      0\n",
                            "total_rooms             0\n",
                            "total_bedrooms        207\n",
                            "population              0\n",
                            "households              0\n",
                            "median_income           0\n",
                            "median_house_value      0\n",
                            "ocean_proximity         0\n",
                            "dtype: int64"
                        ]
                    },
                    "execution_count": 59,
                    "metadata": {},
                    "output_type": "execute_result"
                }
            ],
            "source": [
                "data.describe()\n",
                "data.isnull().sum()"
            ]
        },
        {
            "cell_type": "code",
            "execution_count": 60,
            "metadata": {},
            "outputs": [
                {
                    "data": {
                        "text/plain": [
                            "longitude             0\n",
                            "latitude              0\n",
                            "housing_median_age    0\n",
                            "total_rooms           0\n",
                            "total_bedrooms        0\n",
                            "population            0\n",
                            "households            0\n",
                            "median_income         0\n",
                            "median_house_value    0\n",
                            "ocean_proximity       0\n",
                            "dtype: int64"
                        ]
                    },
                    "execution_count": 60,
                    "metadata": {},
                    "output_type": "execute_result"
                }
            ],
            "source": [
                "data.dropna(subset=['total_bedrooms'], inplace=True)\n",
                "data.isnull().sum()\n"
            ]
        },
        {
            "cell_type": "code",
            "execution_count": 61,
            "metadata": {},
            "outputs": [
                {
                    "data": {
                        "text/plain": [
                            "ocean_proximity\n",
                            "<1H OCEAN     9034\n",
                            "INLAND        6496\n",
                            "NEAR OCEAN    2628\n",
                            "NEAR BAY      2270\n",
                            "ISLAND           5\n",
                            "Name: count, dtype: int64"
                        ]
                    },
                    "execution_count": 61,
                    "metadata": {},
                    "output_type": "execute_result"
                }
            ],
            "source": [
                "data['ocean_proximity'].value_counts()"
            ]
        },
        {
            "cell_type": "code",
            "execution_count": 62,
            "metadata": {},
            "outputs": [],
            "source": [
                "data = pd.get_dummies(data, columns=['ocean_proximity'], prefix='ocean')"
            ]
        },
        {
            "cell_type": "code",
            "execution_count": 63,
            "metadata": {},
            "outputs": [
                {
                    "data": {
                        "text/html": [
                            "<div>\n",
                            "<style scoped>\n",
                            "    .dataframe tbody tr th:only-of-type {\n",
                            "        vertical-align: middle;\n",
                            "    }\n",
                            "\n",
                            "    .dataframe tbody tr th {\n",
                            "        vertical-align: top;\n",
                            "    }\n",
                            "\n",
                            "    .dataframe thead th {\n",
                            "        text-align: right;\n",
                            "    }\n",
                            "</style>\n",
                            "<table border=\"1\" class=\"dataframe\">\n",
                            "  <thead>\n",
                            "    <tr style=\"text-align: right;\">\n",
                            "      <th></th>\n",
                            "      <th>longitude</th>\n",
                            "      <th>latitude</th>\n",
                            "      <th>housing_median_age</th>\n",
                            "      <th>total_rooms</th>\n",
                            "      <th>total_bedrooms</th>\n",
                            "      <th>population</th>\n",
                            "      <th>households</th>\n",
                            "      <th>median_income</th>\n",
                            "      <th>median_house_value</th>\n",
                            "      <th>ocean_&lt;1H OCEAN</th>\n",
                            "      <th>ocean_INLAND</th>\n",
                            "      <th>ocean_ISLAND</th>\n",
                            "      <th>ocean_NEAR BAY</th>\n",
                            "      <th>ocean_NEAR OCEAN</th>\n",
                            "    </tr>\n",
                            "  </thead>\n",
                            "  <tbody>\n",
                            "    <tr>\n",
                            "      <th>0</th>\n",
                            "      <td>-122.23</td>\n",
                            "      <td>37.88</td>\n",
                            "      <td>41.0</td>\n",
                            "      <td>880.0</td>\n",
                            "      <td>129.0</td>\n",
                            "      <td>322.0</td>\n",
                            "      <td>126.0</td>\n",
                            "      <td>8.3252</td>\n",
                            "      <td>452600.0</td>\n",
                            "      <td>False</td>\n",
                            "      <td>False</td>\n",
                            "      <td>False</td>\n",
                            "      <td>True</td>\n",
                            "      <td>False</td>\n",
                            "    </tr>\n",
                            "    <tr>\n",
                            "      <th>1</th>\n",
                            "      <td>-122.22</td>\n",
                            "      <td>37.86</td>\n",
                            "      <td>21.0</td>\n",
                            "      <td>7099.0</td>\n",
                            "      <td>1106.0</td>\n",
                            "      <td>2401.0</td>\n",
                            "      <td>1138.0</td>\n",
                            "      <td>8.3014</td>\n",
                            "      <td>358500.0</td>\n",
                            "      <td>False</td>\n",
                            "      <td>False</td>\n",
                            "      <td>False</td>\n",
                            "      <td>True</td>\n",
                            "      <td>False</td>\n",
                            "    </tr>\n",
                            "    <tr>\n",
                            "      <th>2</th>\n",
                            "      <td>-122.24</td>\n",
                            "      <td>37.85</td>\n",
                            "      <td>52.0</td>\n",
                            "      <td>1467.0</td>\n",
                            "      <td>190.0</td>\n",
                            "      <td>496.0</td>\n",
                            "      <td>177.0</td>\n",
                            "      <td>7.2574</td>\n",
                            "      <td>352100.0</td>\n",
                            "      <td>False</td>\n",
                            "      <td>False</td>\n",
                            "      <td>False</td>\n",
                            "      <td>True</td>\n",
                            "      <td>False</td>\n",
                            "    </tr>\n",
                            "    <tr>\n",
                            "      <th>3</th>\n",
                            "      <td>-122.25</td>\n",
                            "      <td>37.85</td>\n",
                            "      <td>52.0</td>\n",
                            "      <td>1274.0</td>\n",
                            "      <td>235.0</td>\n",
                            "      <td>558.0</td>\n",
                            "      <td>219.0</td>\n",
                            "      <td>5.6431</td>\n",
                            "      <td>341300.0</td>\n",
                            "      <td>False</td>\n",
                            "      <td>False</td>\n",
                            "      <td>False</td>\n",
                            "      <td>True</td>\n",
                            "      <td>False</td>\n",
                            "    </tr>\n",
                            "    <tr>\n",
                            "      <th>4</th>\n",
                            "      <td>-122.25</td>\n",
                            "      <td>37.85</td>\n",
                            "      <td>52.0</td>\n",
                            "      <td>1627.0</td>\n",
                            "      <td>280.0</td>\n",
                            "      <td>565.0</td>\n",
                            "      <td>259.0</td>\n",
                            "      <td>3.8462</td>\n",
                            "      <td>342200.0</td>\n",
                            "      <td>False</td>\n",
                            "      <td>False</td>\n",
                            "      <td>False</td>\n",
                            "      <td>True</td>\n",
                            "      <td>False</td>\n",
                            "    </tr>\n",
                            "  </tbody>\n",
                            "</table>\n",
                            "</div>"
                        ],
                        "text/plain": [
                            "   longitude  latitude  housing_median_age  total_rooms  total_bedrooms  \\\n",
                            "0    -122.23     37.88                41.0        880.0           129.0   \n",
                            "1    -122.22     37.86                21.0       7099.0          1106.0   \n",
                            "2    -122.24     37.85                52.0       1467.0           190.0   \n",
                            "3    -122.25     37.85                52.0       1274.0           235.0   \n",
                            "4    -122.25     37.85                52.0       1627.0           280.0   \n",
                            "\n",
                            "   population  households  median_income  median_house_value  ocean_<1H OCEAN  \\\n",
                            "0       322.0       126.0         8.3252            452600.0            False   \n",
                            "1      2401.0      1138.0         8.3014            358500.0            False   \n",
                            "2       496.0       177.0         7.2574            352100.0            False   \n",
                            "3       558.0       219.0         5.6431            341300.0            False   \n",
                            "4       565.0       259.0         3.8462            342200.0            False   \n",
                            "\n",
                            "   ocean_INLAND  ocean_ISLAND  ocean_NEAR BAY  ocean_NEAR OCEAN  \n",
                            "0         False         False            True             False  \n",
                            "1         False         False            True             False  \n",
                            "2         False         False            True             False  \n",
                            "3         False         False            True             False  \n",
                            "4         False         False            True             False  "
                        ]
                    },
                    "execution_count": 63,
                    "metadata": {},
                    "output_type": "execute_result"
                }
            ],
            "source": [
                "data.head()"
            ]
        },
        {
            "cell_type": "code",
            "execution_count": 64,
            "metadata": {},
            "outputs": [],
            "source": [
                "data = data.rename(columns={'ocean_<1H OCEAN': '<1H'})\n",
                "data = data.rename(columns={'ocean_NEAR BAY': 'NEAR_BAY'})\n",
                "data = data.rename(columns={'ocean_ISLAND': 'ISLAND'})\n",
                "data = data.rename(columns={'ocean_INLAND': 'INLAND'})\n",
                "data = data.rename(columns={'ocean_NEAR OCEAN': 'NEAR_OCEAN'})"
            ]
        },
        {
            "cell_type": "code",
            "execution_count": 65,
            "metadata": {},
            "outputs": [],
            "source": [
                "data = data.astype(int)"
            ]
        },
        {
            "cell_type": "code",
            "execution_count": 66,
            "metadata": {},
            "outputs": [
                {
                    "data": {
                        "image/png": "[encoded data removed]",
                        "text/plain": [
                            "<Figure size 1000x600 with 1 Axes>"
                        ]
                    },
                    "metadata": {},
                    "output_type": "display_data"
                }
            ],
            "source": [
                "import matplotlib.pyplot as plt\n",
                "\n",
                "# Summing up the counts for each region category\n",
                "region_counts = data[['<1H', 'INLAND', 'ISLAND', 'NEAR_BAY', 'NEAR_OCEAN']].sum()\n",
                "\n",
                "# Plot the data\n",
                "plt.figure(figsize=(10, 6))\n",
                "region_counts.plot(kind='bar')\n",
                "plt.xlabel('Region')\n",
                "plt.ylabel('Number of Houses')\n",
                "plt.title('Quantity of Houses in Each Region')\n",
                "plt.xticks(rotation=45)\n",
                "plt.grid(axis='y', linestyle='--', alpha=0.7)\n",
                "plt.show()"
            ]
        },
        {
            "cell_type": "code",
            "execution_count": 67,
            "metadata": {},
            "outputs": [
                {
                    "data": {
                        "text/plain": [
                            "<Figure size 1000x600 with 0 Axes>"
                        ]
                    },
                    "metadata": {},
                    "output_type": "display_data"
                },
                {
                    "data": {
                        "image/png": "[encoded data removed]",
                        "text/plain": [
                            "<Figure size 640x480 with 1 Axes>"
                        ]
                    },
                    "metadata": {},
                    "output_type": "display_data"
                }
            ],
            "source": [
                "# Calculate the median house price for each region\n",
                "median_prices = {\n",
                "    region: data.loc[data[region] == 1, 'median_house_value'].median()\n",
                "    for region in ['<1H', 'INLAND', 'ISLAND', 'NEAR_BAY', 'NEAR_OCEAN']\n",
                "}\n",
                "\n",
                "# Convert to a DataFrame for plotting\n",
                "import pandas as pd\n",
                "median_prices_df = pd.DataFrame.from_dict(median_prices, orient='index', columns=['Median House Price'])\n",
                "\n",
                "# Plot the data\n",
                "plt.figure(figsize=(10, 6))\n",
                "median_prices_df.plot(kind='bar', legend=False)\n",
                "plt.xlabel('Region')\n",
                "plt.ylabel('Median House Price ($)')\n",
                "plt.title('Median House Price per Region')\n",
                "plt.xticks(rotation=45)\n",
                "plt.grid(axis='y', linestyle='--', alpha=0.7)\n",
                "plt.show()"
            ]
        },
        {
            "cell_type": "code",
            "execution_count": 68,
            "metadata": {},
            "outputs": [],
            "source": [
                "data[\"rooms_per_household\"] = data[\"total_rooms\"] / data[\"households\"]\n",
                "data[\"bedrooms_per_room\"] = data[\"total_bedrooms\"] / data[\"total_rooms\"]\n",
                "data[\"population_per_household\"] = data[\"population\"] / data[\"households\"]"
            ]
        },
        {
            "cell_type": "markdown",
            "metadata": {},
            "source": [
                "Split into training and test"
            ]
        },
        {
            "cell_type": "code",
            "execution_count": 69,
            "metadata": {},
            "outputs": [],
            "source": [
                "X = data.drop(columns=['median_house_value'])  # All features except target\n",
                "y = data['median_house_value']  # Target variable"
            ]
        },
        {
            "cell_type": "code",
            "execution_count": 70,
            "metadata": {},
            "outputs": [],
            "source": [
                "from sklearn.model_selection import train_test_split\n",
                "\n",
                "X_train, X_test, y_train, y_test = train_test_split(X, y, test_size=0.2, random_state=42)\n"
            ]
        },
        {
            "cell_type": "code",
            "execution_count": 71,
            "metadata": {},
            "outputs": [
                {
                    "name": "stdout",
                    "output_type": "stream",
                    "text": [
                        "Training set size: (16346, 16)\n",
                        "Testing set size: (4087, 16)\n"
                    ]
                }
            ],
            "source": [
                "print(\"Training set size:\", X_train.shape)\n",
                "print(\"Testing set size:\", X_test.shape)"
            ]
        },
        {
            "cell_type": "code",
            "execution_count": 72,
            "metadata": {},
            "outputs": [],
            "source": [
                "from sklearn.linear_model import LinearRegression\n",
                "\n",
                "model = LinearRegression()\n",
                "\n",
                "model.fit(X_train, y_train)\n",
                "\n",
                "# Make predictions on the test set\n",
                "y_pred = model.predict(X_test)"
            ]
        },
        {
            "cell_type": "code",
            "execution_count": 73,
            "metadata": {},
            "outputs": [
                {
                    "name": "stdout",
                    "output_type": "stream",
                    "text": [
                        "Mean Absolute Error (MAE): 51926.059528960075\n",
                        "Mean Squared Error (MSE): 5074338971.003803\n",
                        "R² Score: 0.6289380703339147\n"
                    ]
                }
            ],
            "source": [
                "from sklearn.metrics import mean_absolute_error, mean_squared_error, r2_score\n",
                "\n",
                "# Evaluate the model\n",
                "mae = mean_absolute_error(y_test, y_pred)\n",
                "mse = mean_squared_error(y_test, y_pred)\n",
                "r2 = r2_score(y_test, y_pred)\n",
                "\n",
                "print(f\"Mean Absolute Error (MAE): {mae}\")\n",
                "print(f\"Mean Squared Error (MSE): {mse}\")\n",
                "print(f\"R² Score: {r2}\")"
            ]
        },
        {
            "cell_type": "markdown",
            "metadata": {},
            "source": [
                "Random Forest Regressor"
            ]
        },
        {
            "cell_type": "code",
            "execution_count": 74,
            "metadata": {},
            "outputs": [
                {
                    "name": "stdout",
                    "output_type": "stream",
                    "text": [
                        "Random Forest MAE: 38617.16425006118\n",
                        "Random Forest MSE: 3325606193.3495917\n",
                        "Random Forest R² Score: 0.7568144622451831\n"
                    ]
                }
            ],
            "source": [
                "from sklearn.ensemble import RandomForestRegressor\n",
                "\n",
                "# Initialize the model\n",
                "rf_model = RandomForestRegressor(n_estimators=100, random_state=42)\n",
                "\n",
                "# Train the model\n",
                "rf_model.fit(X_train, y_train)  # No need for scaling\n",
                "\n",
                "# Make predictions\n",
                "y_pred_rf = rf_model.predict(X_test)\n",
                "\n",
                "# Evaluate the Random Forest Model\n",
                "from sklearn.metrics import mean_absolute_error, mean_squared_error, r2_score\n",
                "\n",
                "mae_rf = mean_absolute_error(y_test, y_pred_rf)\n",
                "mse_rf = mean_squared_error(y_test, y_pred_rf)\n",
                "r2_rf = r2_score(y_test, y_pred_rf)\n",
                "\n",
                "print(f\"Random Forest MAE: {mae_rf}\")\n",
                "print(f\"Random Forest MSE: {mse_rf}\")\n",
                "print(f\"Random Forest R² Score: {r2_rf}\")"
            ]
        },
        {
            "cell_type": "code",
            "execution_count": 75,
            "metadata": {},
            "outputs": [
                {
                    "name": "stdout",
                    "output_type": "stream",
                    "text": [
                        "Best Parameters: {'n_estimators': 200, 'min_samples_split': 10, 'max_depth': 20}\n"
                    ]
                }
            ],
            "source": [
                "from sklearn.model_selection import RandomizedSearchCV\n",
                "\n",
                "# Define hyperparameter grid\n",
                "param_grid = {\n",
                "    'n_estimators': [50, 100, 200],  \n",
                "    'max_depth': [10, 20, None],  \n",
                "    'min_samples_split': [2, 5, 10]  \n",
                "}\n",
                "\n",
                "# Initialize model\n",
                "rf = RandomForestRegressor(random_state=42)\n",
                "\n",
                "# Perform Randomized Search\n",
                "random_search = RandomizedSearchCV(rf, param_grid, cv=5, n_iter=10, scoring='r2', n_jobs=-1, random_state=42)\n",
                "random_search.fit(X_train, y_train)\n",
                "\n",
                "# Print best parameters\n",
                "print(\"Best Parameters:\", random_search.best_params_)\n",
                "\n",
                "# Train the best model\n",
                "best_rf = random_search.best_estimator_"
            ]
        },
        {
            "cell_type": "code",
            "execution_count": 76,
            "metadata": {},
            "outputs": [],
            "source": [
                "# Make predictions on the test set\n",
                "y_pred_best_rf = best_rf.predict(X_test)"
            ]
        },
        {
            "cell_type": "code",
            "execution_count": 77,
            "metadata": {},
            "outputs": [
                {
                    "name": "stdout",
                    "output_type": "stream",
                    "text": [
                        "Tuned Random Forest MAE: 38569.7353720432\n",
                        "Tuned Random Forest MSE: 3294018593.073667\n",
                        "Tuned Random Forest R² Score: 0.7591243110705931\n"
                    ]
                }
            ],
            "source": [
                "from sklearn.metrics import mean_absolute_error, mean_squared_error, r2_score\n",
                "\n",
                "# Evaluate the tuned Random Forest model\n",
                "mae_best_rf = mean_absolute_error(y_test, y_pred_best_rf)\n",
                "mse_best_rf = mean_squared_error(y_test, y_pred_best_rf)\n",
                "r2_best_rf = r2_score(y_test, y_pred_best_rf)\n",
                "\n",
                "# Print results\n",
                "print(f\"Tuned Random Forest MAE: {mae_best_rf}\")\n",
                "print(f\"Tuned Random Forest MSE: {mse_best_rf}\")\n",
                "print(f\"Tuned Random Forest R² Score: {r2_best_rf}\")"
            ]
        },
        {
            "cell_type": "markdown",
            "metadata": {},
            "source": [
                "decision tree"
            ]
        },
        {
            "cell_type": "code",
            "execution_count": 78,
            "metadata": {},
            "outputs": [
                {
                    "name": "stdout",
                    "output_type": "stream",
                    "text": [
                        "Decision Tree MAE: 43163.38938565529\n",
                        "Decision Tree MSE: 4031159060.452475\n",
                        "Decision Tree R² Score: 0.7052207847544487\n"
                    ]
                }
            ],
            "source": [
                "from sklearn.tree import DecisionTreeRegressor\n",
                "from sklearn.metrics import mean_absolute_error, mean_squared_error, r2_score\n",
                "\n",
                "# Initialize the Decision Tree model\n",
                "dt_model = DecisionTreeRegressor(max_depth=10, random_state=42)\n",
                "\n",
                "# Train the model on the training data\n",
                "dt_model.fit(X_train, y_train)\n",
                "\n",
                "# Make predictions on the test set\n",
                "y_pred_dt = dt_model.predict(X_test)\n",
                "\n",
                "# Evaluate the model\n",
                "mae_dt = mean_absolute_error(y_test, y_pred_dt)\n",
                "mse_dt = mean_squared_error(y_test, y_pred_dt)\n",
                "r2_dt = r2_score(y_test, y_pred_dt)\n",
                "\n",
                "print(f\"Decision Tree MAE: {mae_dt}\")\n",
                "print(f\"Decision Tree MSE: {mse_dt}\")\n",
                "print(f\"Decision Tree R² Score: {r2_dt}\")"
            ]
        }
    ],
    "metadata": {
        "kernelspec": {
            "display_name": "Python 3",
            "language": "python",
            "name": "python3"
        },
        "language_info": {
            "codemirror_mode": {
                "name": "ipython",
                "version": 3
            },
            "file_extension": ".py",
            "mimetype": "text/x-python",
            "name": "python",
            "nbconvert_exporter": "python",
            "pygments_lexer": "ipython3",
            "version": "3.12.6"
        }
    },
    "nbformat": 4,
    "nbformat_minor": 2
}
