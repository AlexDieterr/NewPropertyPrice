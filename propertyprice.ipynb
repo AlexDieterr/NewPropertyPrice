{
    "cells": [
        {
            "cell_type": "code",
            "execution_count": 74,
            "metadata": {},
            "outputs": [
                {
                    "data": {
                        "text/html": [
                            "<div>\n",
                            "<style scoped>\n",
                            "    .dataframe tbody tr th:only-of-type {\n",
                            "        vertical-align: middle;\n",
                            "    }\n",
                            "\n",
                            "    .dataframe tbody tr th {\n",
                            "        vertical-align: top;\n",
                            "    }\n",
                            "\n",
                            "    .dataframe thead th {\n",
                            "        text-align: right;\n",
                            "    }\n",
                            "</style>\n",
                            "<table border=\"1\" class=\"dataframe\">\n",
                            "  <thead>\n",
                            "    <tr style=\"text-align: right;\">\n",
                            "      <th></th>\n",
                            "      <th>longitude</th>\n",
                            "      <th>latitude</th>\n",
                            "      <th>housing_median_age</th>\n",
                            "      <th>total_rooms</th>\n",
                            "      <th>total_bedrooms</th>\n",
                            "      <th>population</th>\n",
                            "      <th>households</th>\n",
                            "      <th>median_income</th>\n",
                            "      <th>median_house_value</th>\n",
                            "      <th>ocean_proximity</th>\n",
                            "    </tr>\n",
                            "  </thead>\n",
                            "  <tbody>\n",
                            "    <tr>\n",
                            "      <th>0</th>\n",
                            "      <td>-122.23</td>\n",
                            "      <td>37.88</td>\n",
                            "      <td>41.0</td>\n",
                            "      <td>880.0</td>\n",
                            "      <td>129.0</td>\n",
                            "      <td>322.0</td>\n",
                            "      <td>126.0</td>\n",
                            "      <td>8.3252</td>\n",
                            "      <td>452600.0</td>\n",
                            "      <td>NEAR BAY</td>\n",
                            "    </tr>\n",
                            "    <tr>\n",
                            "      <th>1</th>\n",
                            "      <td>-122.22</td>\n",
                            "      <td>37.86</td>\n",
                            "      <td>21.0</td>\n",
                            "      <td>7099.0</td>\n",
                            "      <td>1106.0</td>\n",
                            "      <td>2401.0</td>\n",
                            "      <td>1138.0</td>\n",
                            "      <td>8.3014</td>\n",
                            "      <td>358500.0</td>\n",
                            "      <td>NEAR BAY</td>\n",
                            "    </tr>\n"
                        ]
                    },
                    "execution_count": 74,
                    "metadata": {},
                    "output_type": "execute_result"
                }
            ],
            "source": [
                "import pandas as pd\n",
                "data = pd.read_csv('./housing.csv')\n",
                "data.head(5)"
            ]
        },
        {
            "cell_type": "code",
            "execution_count": 75,
            "metadata": {},
            "outputs": [
                {
                    "data": {
                        "text/plain": [
                            "longitude               0\n",
                            "latitude                0\n",
                            "housing_median_age      0\n",
                            "total_rooms             0\n",
                            "total_bedrooms        207\n",
                            "population              0\n",
                            "households              0\n",
                            "median_income           0\n",
                            "median_house_value      0\n",
                            "ocean_proximity         0\n",
                            "dtype: int64"
                        ]
                    },
                    "execution_count": 75,
                    "metadata": {},
                    "output_type": "execute_result"
                }
            ],
            "source": [
                "data.describe()\n",
                "data.isnull().sum()"
            ]
        },
        {
            "cell_type": "code",
            "execution_count": 76,
            "metadata": {},
            "outputs": [
                {
                    "data": {
                        "text/plain": [
                            "longitude             0\n",
                            "latitude              0\n",
                            "housing_median_age    0\n",
                            "total_rooms           0\n",
                            "total_bedrooms        0\n",
                            "population            0\n",
                            "households            0\n",
                            "median_income         0\n",
                            "median_house_value    0\n",
                            "ocean_proximity       0\n",
                            "dtype: int64"
                        ]
                    },
                    "execution_count": 76,
                    "metadata": {},
                    "output_type": "execute_result"
                }
            ],
            "source": [
                "data.dropna(subset=['total_bedrooms'], inplace=True)\n",
                "data.isnull().sum()\n"
            ]
        },
        {
            "cell_type": "code",
            "execution_count": 77,
            "metadata": {},
            "outputs": [
                {
                    "data": {
                        "text/plain": [
                            "ocean_proximity\n",
                            "<1H OCEAN     9034\n",
                            "INLAND        6496\n",
                            "NEAR OCEAN    2628\n",
                            "NEAR BAY      2270\n",
                            "ISLAND           5\n",
                            "Name: count, dtype: int64"
                        ]
                    },
                    "execution_count": 77,
                    "metadata": {},
                    "output_type": "execute_result"
                }
            ],
            "source": [
                "data['ocean_proximity'].value_counts()"
            ]
        },
        {
            "cell_type": "code",
            "execution_count": 78,
            "metadata": {},
            "outputs": [],
            "source": [
                "data = pd.get_dummies(data, columns=['ocean_proximity'], prefix='ocean')"
            ]
        },
        {
            "cell_type": "code",
            "execution_count": 79,
            "metadata": {},
            "outputs": [
                {
                    "data": {
                        "text/plain": [
                            "       longitude  latitude  housing_median_age  total_rooms  total_bedrooms  \\\n",
                            "0        -122.23     37.88                41.0        880.0           129.0   \n",
                            "1        -122.22     37.86                21.0       7099.0          1106.0   \n",
                            "2        -122.24     37.85                52.0       1467.0           190.0   \n",
                            "3        -122.25     37.85                52.0       1274.0           235.0   \n",
                            "4        -122.25     37.85                52.0       1627.0           280.0   \n",
                            "       population  households  median_income  median_house_value  ocean_<1H OCEAN  \\\n",
                            "0           322.0       126.0         8.3252            452600.0                1   \n",
                            "1          2401.0      1138.0         8.3014            358500.0                1   \n",
                            "2           496.0       177.0         7.2574            352100.0                1   \n",
                            "3           558.0       219.0         5.6431            341300.0                1   \n",
                            "4           565.0       259.0         3.8462            342200.0                1   \n",
                            "       ocean_INLAND  ocean_ISLAND  ocean_NEAR BAY  ocean_NEAR OCEAN  \n",
                            "0                0             0               0                0  \n",
                            "1                0             0               0                0  \n",
                            "2                0             0               0                0  \n",
                            "3                0             0               0                0  \n",
                            "4                0             0               0                0  "
                        ]
                    },
                    "execution_count": 79,
                    "metadata": {},
                    "output_type": "execute_result"
                }
            ],
            "source": [
                "data.head()"
            ]
        },
        {
            "cell_type": "code",
            "execution_count": 80,
            "metadata": {},
            "outputs": [],
            "source": [
                "data = data.rename(columns={'ocean_<1H OCEAN': '<1H'})\n",
                "data = data.rename(columns={'ocean_NEAR BAY': 'NEAR_BAY'})\n",
                "data = data.rename(columns={'ocean_ISLAND': 'ISLAND'})\n",
                "data = data.rename(columns={'ocean_INLAND': 'INLAND'})\n",
                "data = data.rename(columns={'ocean_NEAR OCEAN': 'NEAR_OCEAN'})"
            ]
        },
        {
            "cell_type": "code",
            "execution_count": 81,
            "metadata": {},
            "outputs": [],
            "source": [
                "data = data.astype(int)"
            ]
        },
        {
            "cell_type": "code",
            "execution_count": 82,
            "metadata": {},
            "outputs": [],
            "source": [
                "import matplotlib.pyplot as plt\n",
                "\n",
                "# Summing up the counts for each region category\n",
                "region_counts = data[['<1H', 'INLAND', 'ISLAND', 'NEAR_BAY', 'NEAR_OCEAN']].sum()\n",
                "\n",
                "# Plot the data\n",
                "plt.figure(figsize=(10, 6))\n",
                "region_counts.plot(kind='bar')\n",
                "plt.xlabel('Region')\n",
                "plt.ylabel('Number of Houses')\n",
                "plt.title('Quantity of Houses in Each Region')\n",
                "plt.xticks(rotation=45)\n",
                "plt.grid(axis='y', linestyle='--', alpha=0.7)\n",
                "plt.show()"
            ]
        },
        {
            "cell_type": "code",
            "execution_count": 83,
            "metadata": {},
            "outputs": [],
            "source": [
                "# Calculate the median house price for each region\n",
                "median_prices = {\n",
                "    region: data.loc[data[region] == 1, 'median_house_value'].median()\n",
                "    for region in ['<1H', 'INLAND', 'ISLAND', 'NEAR_BAY', 'NEAR_OCEAN']\n",
                "}\n",
                "\n",
                "# Convert to a DataFrame for plotting\n",
                "import pandas as pd\n",
                "median_prices_df = pd.DataFrame.from_dict(median_prices, orient='index', columns=['Median House Price'])\n",
                "\n",
                "# Plot the data\n",
                "plt.figure(figsize=(10, 6))\n",
                "median_prices_df.plot(kind='bar', legend=False)\n",
                "plt.xlabel('Region')\n",
                "plt.ylabel('Median House Price ($)')\n",
                "plt.title('Median House Price per Region')\n",
                "plt.xticks(rotation=45)\n",
                "plt.grid(axis='y', linestyle='--', alpha=0.7)\n",
                "plt.show()"
            ]
        }
    ],
    "metadata": {
        "kernelspec": {
            "display_name": "Python 3",
            "language": "python",
            "name": "python3"
        },
        "language_info": {
            "codemirror_mode": {
                "name": "ipython",
                "version": 3
            },
            "file_extension": ".py",
            "mimetype": "text/x-python",
            "name": "python",
            "nbconvert_exporter": "python",
            "pygments_lexer": "ipython3",
            "version": "3.12.6"
        }
    },
    "nbformat": 4,
    "nbformat_minor": 2
}
